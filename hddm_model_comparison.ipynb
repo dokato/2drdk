{
 "cells": [
  {
   "cell_type": "code",
   "execution_count": 1,
   "metadata": {},
   "outputs": [],
   "source": [
    "import numpy as np\n",
    "import pandas as pd\n",
    "import matplotlib.pyplot as plt\n",
    "import seaborn as sns\n",
    "\n",
    "%matplotlib inline"
   ]
  },
  {
   "cell_type": "code",
   "execution_count": 2,
   "metadata": {},
   "outputs": [],
   "source": [
    "plt.rcParams.update({'font.size': 16})\n",
    "import matplotlib as mpl\n",
    "mpl.rcParams['axes.spines.right'] = False\n",
    "mpl.rcParams['axes.spines.top'] = False"
   ]
  },
  {
   "cell_type": "code",
   "execution_count": 3,
   "metadata": {},
   "outputs": [],
   "source": [
    "dic_scores = {\"vta\" : 86936.27,\n",
    " \"va\"  : 88988.84,\n",
    " \"ta\"  : 88830.02,\n",
    " \"vt\"  : 88998.36 }"
   ]
  },
  {
   "cell_type": "code",
   "execution_count": 4,
   "metadata": {},
   "outputs": [],
   "source": [
    "dic_diffs = list()\n",
    "dic_names = list()\n",
    "for k in dic_scores:\n",
    "    dic_names.append(k)\n",
    "    dic_diffs.append(dic_scores[k] - dic_scores[\"vta\"])"
   ]
  },
  {
   "cell_type": "code",
   "execution_count": 5,
   "metadata": {},
   "outputs": [
    {
     "data": {
      "image/png": "[encoded data removed]",
      "text/plain": [
       "<Figure size 432x396 with 1 Axes>"
      ]
     },
     "metadata": {
      "needs_background": "light"
     },
     "output_type": "display_data"
    }
   ],
   "source": [
    "fig, ax1 = plt.subplots(figsize=(6, 5.5))\n",
    "fig.subplots_adjust(left=0.1, right=0.9)\n",
    "\n",
    "positions = np.arange(len(dic_names))\n",
    "\n",
    "rects = ax1.barh(positions, dic_diffs,\n",
    "                 align = 'center',\n",
    "                 height = 0.65,\n",
    "                 tick_label = dic_names,\n",
    "                 color = 'orange')\n",
    "\n",
    "for e, rect in enumerate(rects):\n",
    "    width = int(rect.get_width())\n",
    "\n",
    "    if width < 10:\n",
    "        xloc = 5\n",
    "        clr = 'black'\n",
    "        align = 'left'\n",
    "    else:\n",
    "        xloc = -5\n",
    "        clr = 'white'\n",
    "        align = 'right'\n",
    "\n",
    "    # Center the text vertically in the bar\n",
    "    yloc = rect.get_y() + rect.get_height() / 2\n",
    "    label = ax1.annotate(dic_scores[dic_names[e]], xy=(width, yloc), xytext=(xloc, 0),\n",
    "                        textcoords=\"offset points\",\n",
    "                        ha=align, va='center',\n",
    "                        color=clr, weight='bold', clip_on=True)\n",
    "plt.xticks([0, 2000])\n",
    "plt.xlabel('Relative DIC score [a.u.]', fontdict={'size' : 15})\n",
    "plt.savefig('dic_scores.svg')"
   ]
  },
  {
   "cell_type": "code",
   "execution_count": null,
   "metadata": {},
   "outputs": [],
   "source": []
  }
 ],
 "metadata": {
  "kernelspec": {
   "display_name": "Python 3",
   "language": "python",
   "name": "python3"
  },
  "language_info": {
   "codemirror_mode": {
    "name": "ipython",
    "version": 3
   },
   "file_extension": ".py",
   "mimetype": "text/x-python",
   "name": "python",
   "nbconvert_exporter": "python",
   "pygments_lexer": "ipython3",
   "version": "3.7.7"
  }
 },
 "nbformat": 4,
 "nbformat_minor": 4
}
